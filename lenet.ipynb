{
 "cells": [
  {
   "cell_type": "code",
   "execution_count": 70,
   "metadata": {},
   "outputs": [],
   "source": [
    "import torch.nn.functional as F\n",
    "import torch\n",
    "import numpy as np\n",
    "import torch\n",
    "import torchvision\n",
    "import torchvision.transforms as transforms\n",
    "\n",
    "from torch.utils.tensorboard import SummaryWriter\n",
    "from datetime import datetime\n",
    "import time"
   ]
  },
  {
   "cell_type": "code",
   "execution_count": 71,
   "metadata": {},
   "outputs": [],
   "source": [
    "class LeNet(torch.nn.Module):\n",
    "\n",
    "   def __init__(self):\n",
    "      super(LeNet, self).__init__()\n",
    "      # Definição de cada camada da rede neural como atributo da classe\n",
    "      self.conv1 = torch.nn.Conv2d(1, 6, 5)\n",
    "      self.pool = torch.nn.MaxPool2d(2, 2)\n",
    "      self.conv2 = torch.nn.Conv2d(6, 16, 5)\n",
    "      self.fc1 = torch.nn.Linear(16 * 4 * 4, 120)\n",
    "      self.fc2 = torch.nn.Linear(120, 84)\n",
    "      self.fc3 = torch.nn.Linear(84, 10)\n",
    "\n",
    "   def forward(self, x):\n",
    "      # Computação dos passos de uma rede neural até a saída produzida\n",
    "      x = self.pool(F.relu(self.conv1(x)))\n",
    "      x = self.pool(F.relu(self.conv2(x)))\n",
    "      x = x.view(-1, 16 * 4 * 4)\n",
    "      x = F.relu(self.fc1(x))\n",
    "      x = F.relu(self.fc2(x))\n",
    "      x = self.fc3(x)\n",
    "      return x\n",
    "\n",
    "   def num_flat_features(self, x):\n",
    "      size = x.size()[1:]\n",
    "      return np.prod(size)\n",
    "\n",
    "model = LeNet()"
   ]
  },
  {
   "cell_type": "code",
   "execution_count": 72,
   "metadata": {},
   "outputs": [],
   "source": [
    "loss_fn = torch.nn.CrossEntropyLoss()\n",
    "optimizer = torch.optim.SGD(model.parameters(), lr=0.001, momentum=0.9)"
   ]
  },
  {
   "cell_type": "code",
   "execution_count": 73,
   "metadata": {},
   "outputs": [
    {
     "name": "stdout",
     "output_type": "stream",
     "text": [
      "Training set has 60000 instances\n",
      "Validation set has 10000 instances\n"
     ]
    }
   ],
   "source": [
    "BATCH_SIZE = 4\n",
    "\n",
    "transform = transforms.Compose(\n",
    "    [transforms.ToTensor(),\n",
    "     transforms.Normalize((0.5,), (0.5,))])\n",
    "\n",
    "# Create datasets for training & validation, download if necessary\n",
    "training_set = torchvision.datasets.FashionMNIST(\n",
    "    './data', train=True, transform=transform, download=True)\n",
    "validation_set = torchvision.datasets.FashionMNIST(\n",
    "    './data', train=False, transform=transform, download=True)\n",
    "\n",
    "# Create data loaders for our datasets; shuffle for training, not for validation\n",
    "training_loader = torch.utils.data.DataLoader(\n",
    "    training_set, batch_size=BATCH_SIZE, shuffle=True, num_workers=2)\n",
    "validation_loader = torch.utils.data.DataLoader(\n",
    "    validation_set, batch_size=BATCH_SIZE, shuffle=False, num_workers=2)\n",
    "\n",
    "# Class labels\n",
    "classes = ('T-shirt/top', 'Trouser', 'Pullover', 'Dress', 'Coat',\n",
    "           'Sandal', 'Shirt', 'Sneaker', 'Bag', 'Ankle Boot')\n",
    "\n",
    "# Report split sizes\n",
    "print('Training set has {} instances'.format(len(training_set)))\n",
    "print('Validation set has {} instances'.format(len(validation_set)))\n"
   ]
  },
  {
   "cell_type": "code",
   "execution_count": 74,
   "metadata": {},
   "outputs": [],
   "source": [
    "info_per_batch = []"
   ]
  },
  {
   "cell_type": "code",
   "execution_count": 75,
   "metadata": {},
   "outputs": [],
   "source": [
    "def train_one_epoch(epoch_index, tb_writer):\n",
    "   running_loss = 0.\n",
    "   last_loss = 0.\n",
    "   st = time.time()\n",
    "\n",
    "   # Here, we use enumerate(training_loader) instead of\n",
    "   # iter(training_loader) so that we can track the batch\n",
    "   # index and do some intra-epoch reporting\n",
    "   correct = 0\n",
    "   for i, data in enumerate(training_loader):\n",
    "      # Every data instance is an input + label pair\n",
    "      inputs, labels = data\n",
    "\n",
    "      # Zero your gradients for every batch!\n",
    "      optimizer.zero_grad()\n",
    "\n",
    "      # Make predictions for this batch\n",
    "      outputs = model(inputs)\n",
    "\n",
    "      # Compute the loss and its gradients\n",
    "      loss = loss_fn(outputs, labels)\n",
    "      loss.backward()\n",
    "\n",
    "      # Adjust learning weights\n",
    "      optimizer.step()\n",
    "\n",
    "      # Gather data and report\n",
    "      running_loss += loss.item()\n",
    "      if i % 1000 == 999:\n",
    "         end = time.time()\n",
    "         last_loss = running_loss / 1000  # loss per batch\n",
    "         last_time = (end - st) / 1000  # time per batch\n",
    "         print('batch {} loss: {}'.format(i + 1, last_loss))\n",
    "         tb_x = epoch_index * len(training_loader) + i + 1\n",
    "         tb_writer.add_scalar('Loss/train', last_loss, tb_x)\n",
    "         running_loss = 0.\n",
    "         \n",
    "         _info_per_batch = {}\n",
    "         _info_per_batch['epoch'] = epoch_index\n",
    "         _info_per_batch['batch'] = i + 1\n",
    "         _info_per_batch['mean_loss'] = last_loss\n",
    "         _info_per_batch['mean_time'] = last_time\n",
    "         _info_per_batch['time_image_batch'] = last_time / BATCH_SIZE\n",
    "         info_per_batch.append(_info_per_batch)\n",
    "\n",
    "         st = time.time()\n",
    "         \n",
    "\n",
    "   return last_loss\n"
   ]
  },
  {
   "cell_type": "code",
   "execution_count": 76,
   "metadata": {},
   "outputs": [
    {
     "name": "stdout",
     "output_type": "stream",
     "text": [
      "EPOCH 1:\n",
      "batch 1000 loss: 2.0269372535049914\n",
      "batch 2000 loss: 0.8538432704564184\n",
      "batch 3000 loss: 0.7293968826439232\n",
      "batch 4000 loss: 0.6106824914133177\n",
      "batch 5000 loss: 0.5796426721394528\n",
      "batch 6000 loss: 0.5445708718372043\n",
      "batch 7000 loss: 0.5065915509434417\n",
      "batch 8000 loss: 0.467756498349132\n",
      "batch 9000 loss: 0.4955452290140092\n",
      "batch 10000 loss: 0.461220390404691\n",
      "batch 11000 loss: 0.42986467844969595\n",
      "batch 12000 loss: 0.44380887440266087\n",
      "batch 13000 loss: 0.4026490962294047\n",
      "batch 14000 loss: 0.41980449695765854\n",
      "batch 15000 loss: 0.41401716355385726\n",
      "LOSS train 0.41401716355385726 valid 0.42975226044654846\n",
      "[{'epoch': 0, 'batch': 1000, 'mean_loss': 2.0269372535049914, 'mean_time': 0.00681434440612793, 'time_image_batch': 0.0017035861015319825}, {'epoch': 0, 'batch': 2000, 'mean_loss': 0.8538432704564184, 'mean_time': 0.003547818422317505, 'time_image_batch': 0.0008869546055793763}, {'epoch': 0, 'batch': 3000, 'mean_loss': 0.7293968826439232, 'mean_time': 0.00389200496673584, 'time_image_batch': 0.00097300124168396}]\n"
     ]
    }
   ],
   "source": [
    "timestamp = datetime.now().strftime('%Y%m%d_%H%M%S')\n",
    "writer = SummaryWriter('runs/fashion_trainer_{}'.format(timestamp))\n",
    "epoch_number = 0\n",
    "\n",
    "EPOCHS = 1\n",
    "\n",
    "best_vloss = 1_000_000.\n",
    "\n",
    "for epoch in range(EPOCHS):\n",
    "   print('EPOCH {}:'.format(epoch_number + 1))\n",
    "\n",
    "   # Make sure gradient tracking is on, and do a pass over the data\n",
    "   model.train(True)\n",
    "   avg_loss = train_one_epoch(epoch_number, writer)\n",
    "\n",
    "   # We don't need gradients on to do reporting\n",
    "   model.train(False)\n",
    "\n",
    "   running_vloss = 0.0\n",
    "   for i, vdata in enumerate(validation_loader):\n",
    "      vinputs, vlabels = vdata\n",
    "      voutputs = model(vinputs)\n",
    "      vloss = loss_fn(voutputs, vlabels)\n",
    "      running_vloss += vloss\n",
    "\n",
    "   avg_vloss = running_vloss / (i + 1)\n",
    "   print('LOSS train {} valid {}'.format(avg_loss, avg_vloss))\n",
    "\n",
    "   # Log the running loss averaged per batch\n",
    "   # for both training and validation\n",
    "   writer.add_scalars('Training vs. Validation Loss',\n",
    "                     {'Training': avg_loss, 'Validation': avg_vloss},\n",
    "                     epoch_number + 1)\n",
    "   writer.flush()\n",
    "\n",
    "   # Track best performance, and save the model's state\n",
    "   if avg_vloss < best_vloss:\n",
    "      best_vloss = avg_vloss\n",
    "      model_path = 'model_{}_{}'.format(timestamp, epoch_number)\n",
    "      torch.save(model.state_dict(), model_path)\n",
    "\n",
    "   epoch_number += 1\n",
    "\n",
    "print(info_per_batch[0:3])\n"
   ]
  }
 ],
 "metadata": {
  "kernelspec": {
   "display_name": "Python 3.10.6 64-bit",
   "language": "python",
   "name": "python3"
  },
  "language_info": {
   "codemirror_mode": {
    "name": "ipython",
    "version": 3
   },
   "file_extension": ".py",
   "mimetype": "text/x-python",
   "name": "python",
   "nbconvert_exporter": "python",
   "pygments_lexer": "ipython3",
   "version": "3.10.6"
  },
  "orig_nbformat": 4,
  "vscode": {
   "interpreter": {
    "hash": "916dbcbb3f70747c44a77c7bcd40155683ae19c65e1c03b4aa3499c5328201f1"
   }
  }
 },
 "nbformat": 4,
 "nbformat_minor": 2
}
